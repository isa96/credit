{
  "cells": [
    {
      "cell_type": "markdown",
      "metadata": {
        "id": "d00e7832-961b-4df6-ab2b-56fb8548ef44"
      },
      "source": [
        "# Home Credit - Modeling"
      ],
      "id": "d00e7832-961b-4df6-ab2b-56fb8548ef44"
    },
    {
      "cell_type": "code",
      "execution_count": 1,
      "metadata": {
        "id": "92aa0252-bcaa-49c8-be7f-4476ed4e499c"
      },
      "outputs": [],
      "source": [
        "# import all necessary library\n",
        "import numpy as np\n",
        "import pandas as pd\n",
        "import matplotlib.pyplot as plt\n",
        "import seaborn as sns\n",
        "import scipy.stats as ss\n",
        "\n",
        "from sklearn import metrics\n",
        "from sklearn.ensemble import RandomForestClassifier\n",
        "from sklearn.feature_selection import SelectFromModel\n",
        "from sklearn.model_selection import train_test_split\n",
        "from sklearn.model_selection import train_test_split, KFold, cross_val_score, cross_validate\n",
        "from sklearn.linear_model import LogisticRegression\n",
        "from sklearn.metrics import confusion_matrix, classification_report, accuracy_score, recall_score, roc_auc_score, roc_curve, precision_score, f1_score\n",
        "from sklearn.preprocessing import RobustScaler\n",
        "\n",
        "# Handling imbalanced data\n",
        "from imblearn.combine import SMOTETomek\n",
        "\n",
        "# Hyperparameter tuning\n",
        "from sklearn.model_selection import RandomizedSearchCV, GridSearchCV\n",
        "\n",
        "# Ensembel\n",
        "from sklearn.ensemble import RandomForestClassifier, AdaBoostClassifier, ExtraTreesClassifier, StackingClassifier, GradientBoostingClassifier\n",
        "\n",
        "# Pipeline\n",
        "from sklearn.base import BaseEstimator, TransformerMixin\n",
        "from imblearn.pipeline import Pipeline\n",
        "from sklearn.pipeline import make_pipeline\n",
        "from sklearn.compose import ColumnTransformer, make_column_transformer\n",
        "from imblearn import FunctionSampler\n",
        "\n",
        "import warnings\n",
        "warnings.filterwarnings('ignore')\n",
        "\n",
        "pd.pandas.set_option('display.max_columns', None)"
      ],
      "id": "92aa0252-bcaa-49c8-be7f-4476ed4e499c"
    },
    {
      "cell_type": "code",
      "execution_count": 2,
      "metadata": {
        "id": "c4a3741b-5222-40ba-972b-8bb65aa6344f"
      },
      "outputs": [],
      "source": [
        "df = pd.read_csv(\"clean_data.csv\")"
      ],
      "id": "c4a3741b-5222-40ba-972b-8bb65aa6344f"
    },
    {
      "cell_type": "code",
      "execution_count": 3,
      "metadata": {
        "id": "g-IyE8gV1pHy"
      },
      "outputs": [],
      "source": [
        "df = df.drop(columns=\"SK_ID_CURR\")\n",
        "df = df.dropna()\n",
        "df2 = df.copy()"
      ],
      "id": "g-IyE8gV1pHy"
    },
    {
      "cell_type": "markdown",
      "metadata": {
        "id": "yd5SnxgI2fuJ"
      },
      "source": [
        "## Scaling"
      ],
      "id": "yd5SnxgI2fuJ"
    },
    {
      "cell_type": "code",
      "execution_count": 4,
      "metadata": {
        "id": "CyiXJhVM2h7B"
      },
      "outputs": [],
      "source": [
        "scaler = RobustScaler()"
      ],
      "id": "CyiXJhVM2h7B"
    },
    {
      "cell_type": "code",
      "execution_count": 5,
      "metadata": {
        "id": "LQLR8uuo2lUy"
      },
      "outputs": [],
      "source": [
        "for i in df.columns:\n",
        "  if df[i].nunique() > 2:\n",
        "    df[i] = scaler.fit_transform(df[[i]])"
      ],
      "id": "LQLR8uuo2lUy"
    },
    {
      "cell_type": "markdown",
      "metadata": {
        "id": "6996ed24-56b4-43cc-852d-5f1870632288"
      },
      "source": [
        "## Feature Engineering"
      ],
      "id": "6996ed24-56b4-43cc-852d-5f1870632288"
    },
    {
      "cell_type": "code",
      "execution_count": 6,
      "metadata": {
        "id": "7e1fb526-af9a-42ed-9644-15f99c74f3b7"
      },
      "outputs": [],
      "source": [
        "X = df.drop(columns=\"TARGET\")\n",
        "y = df[\"TARGET\"]"
      ],
      "id": "7e1fb526-af9a-42ed-9644-15f99c74f3b7"
    },
    {
      "cell_type": "code",
      "execution_count": 7,
      "metadata": {
        "id": "4dfa2ba5-84ac-416e-9acf-56a70bea6732"
      },
      "outputs": [],
      "source": [
        "X_train, X_test, y_train, y_test = train_test_split(X, y, test_size=0.2, random_state=0)"
      ],
      "id": "4dfa2ba5-84ac-416e-9acf-56a70bea6732"
    },
    {
      "cell_type": "code",
      "execution_count": 8,
      "metadata": {
        "colab": {
          "base_uri": "https://localhost:8080/"
        },
        "id": "ee61d90f-5949-494a-8427-6260e7d0ff85",
        "outputId": "ba4ac8cf-7756-41bc-d9bb-ccba0d7159a1"
      },
      "outputs": [
        {
          "output_type": "execute_result",
          "data": {
            "text/plain": [
              "SelectFromModel(estimator=RandomForestClassifier(random_state=40))"
            ]
          },
          "metadata": {},
          "execution_count": 8
        }
      ],
      "source": [
        "selection = SelectFromModel(RandomForestClassifier(n_estimators=100, random_state=40))\n",
        "selection.fit(X_train, y_train)"
      ],
      "id": "ee61d90f-5949-494a-8427-6260e7d0ff85"
    },
    {
      "cell_type": "code",
      "execution_count": 9,
      "metadata": {
        "colab": {
          "base_uri": "https://localhost:8080/"
        },
        "id": "db5349f2-1e42-4c85-acf0-f70ffc799ade",
        "outputId": "166fe2d0-cce7-4f26-d5a0-9971aa393be4"
      },
      "outputs": [
        {
          "output_type": "execute_result",
          "data": {
            "text/plain": [
              "array([False,  True,  True,  True,  True,  True,  True,  True,  True,\n",
              "        True,  True,  True,  True, False, False,  True, False,  True,\n",
              "       False,  True,  True,  True, False, False, False, False,  True,\n",
              "       False,  True,  True,  True,  True,  True,  True,  True,  True,\n",
              "        True,  True,  True,  True,  True,  True,  True, False,  True,\n",
              "        True,  True,  True, False, False, False, False, False, False,\n",
              "       False, False, False, False, False, False, False, False, False,\n",
              "       False, False, False, False, False, False, False, False,  True,\n",
              "        True,  True,  True, False, False, False, False, False, False,\n",
              "       False, False, False, False, False, False, False, False, False,\n",
              "       False,  True, False, False, False, False, False, False,  True,\n",
              "       False, False, False, False, False, False, False, False, False,\n",
              "       False, False, False, False, False, False, False, False, False,\n",
              "        True, False, False, False, False, False, False, False, False,\n",
              "       False,  True,  True, False, False,  True,  True, False, False,\n",
              "       False, False, False, False,  True, False, False, False, False,\n",
              "       False, False, False, False, False, False, False, False, False,\n",
              "       False, False, False, False, False, False, False, False, False,\n",
              "       False, False, False, False, False, False, False, False, False,\n",
              "       False, False, False, False, False, False, False, False, False,\n",
              "       False, False, False, False, False, False, False, False, False,\n",
              "       False, False, False, False, False, False, False, False, False,\n",
              "       False, False, False, False, False, False, False, False])"
            ]
          },
          "metadata": {},
          "execution_count": 9
        }
      ],
      "source": [
        "selection.get_support()"
      ],
      "id": "db5349f2-1e42-4c85-acf0-f70ffc799ade"
    },
    {
      "cell_type": "code",
      "execution_count": 10,
      "metadata": {
        "colab": {
          "base_uri": "https://localhost:8080/"
        },
        "id": "QeY4kEHmtgAX",
        "outputId": "afbc8ea4-8363-4f91-cc7d-31ebd87f6898"
      },
      "outputs": [
        {
          "output_type": "execute_result",
          "data": {
            "text/plain": [
              "49"
            ]
          },
          "metadata": {},
          "execution_count": 10
        }
      ],
      "source": [
        "selected_feat= X_train.columns[(selection.get_support())].tolist()\n",
        "len(selected_feat)"
      ],
      "id": "QeY4kEHmtgAX"
    },
    {
      "cell_type": "code",
      "execution_count": 11,
      "metadata": {
        "colab": {
          "base_uri": "https://localhost:8080/"
        },
        "id": "3f7uPY6Gu0iD",
        "outputId": "ea2287af-7955-42ef-e80a-359808db0376"
      },
      "outputs": [
        {
          "output_type": "execute_result",
          "data": {
            "text/plain": [
              "['FLAG_OWN_CAR',\n",
              " 'FLAG_OWN_REALTY',\n",
              " 'CNT_CHILDREN',\n",
              " 'AMT_INCOME_TOTAL',\n",
              " 'AMT_CREDIT',\n",
              " 'AMT_ANNUITY',\n",
              " 'REGION_POPULATION_RELATIVE',\n",
              " 'DAYS_BIRTH',\n",
              " 'DAYS_EMPLOYED',\n",
              " 'DAYS_REGISTRATION',\n",
              " 'DAYS_ID_PUBLISH',\n",
              " 'OWN_CAR_AGE',\n",
              " 'FLAG_WORK_PHONE',\n",
              " 'FLAG_PHONE',\n",
              " 'CNT_FAM_MEMBERS',\n",
              " 'REGION_RATING_CLIENT',\n",
              " 'HOUR_APPR_PROCESS_START',\n",
              " 'REG_CITY_NOT_WORK_CITY',\n",
              " 'EXT_SOURCE_1',\n",
              " 'EXT_SOURCE_2',\n",
              " 'EXT_SOURCE_3',\n",
              " 'APARTMENTS_AVG',\n",
              " 'BASEMENTAREA_AVG',\n",
              " 'YEARS_BEGINEXPLUATATION_AVG',\n",
              " 'YEARS_BUILD_AVG',\n",
              " 'COMMONAREA_AVG',\n",
              " 'ELEVATORS_AVG',\n",
              " 'ENTRANCES_AVG',\n",
              " 'FLOORSMAX_AVG',\n",
              " 'FLOORSMIN_AVG',\n",
              " 'LANDAREA_AVG',\n",
              " 'NONLIVINGAPARTMENTS_AVG',\n",
              " 'NONLIVINGAREA_AVG',\n",
              " 'OBS_30_CNT_SOCIAL_CIRCLE',\n",
              " 'DEF_30_CNT_SOCIAL_CIRCLE',\n",
              " 'DEF_60_CNT_SOCIAL_CIRCLE',\n",
              " 'DAYS_LAST_PHONE_CHANGE',\n",
              " 'AMT_REQ_CREDIT_BUREAU_MON',\n",
              " 'AMT_REQ_CREDIT_BUREAU_QRT',\n",
              " 'AMT_REQ_CREDIT_BUREAU_YEAR',\n",
              " 'CODE_GENDER_F',\n",
              " 'NAME_INCOME_TYPE_Working',\n",
              " 'NAME_FAMILY_STATUS_Married',\n",
              " 'OCCUPATION_TYPE_Laborers',\n",
              " 'WEEKDAY_APPR_PROCESS_START_FRIDAY',\n",
              " 'WEEKDAY_APPR_PROCESS_START_MONDAY',\n",
              " 'WEEKDAY_APPR_PROCESS_START_THURSDAY',\n",
              " 'WEEKDAY_APPR_PROCESS_START_TUESDAY',\n",
              " 'ORGANIZATION_TYPE_Business Entity Type 3']"
            ]
          },
          "metadata": {},
          "execution_count": 11
        }
      ],
      "source": [
        "selected_feat"
      ],
      "id": "3f7uPY6Gu0iD"
    },
    {
      "cell_type": "code",
      "execution_count": 12,
      "metadata": {
        "colab": {
          "base_uri": "https://localhost:8080/"
        },
        "id": "mwkFiF0Ku9KN",
        "outputId": "4038231e-f98a-4c91-97b0-fb2b39107333"
      },
      "outputs": [
        {
          "output_type": "stream",
          "name": "stdout",
          "text": [
            "(20959, 49) (5240, 49)\n"
          ]
        }
      ],
      "source": [
        "X_train = X_train[selected_feat]\n",
        "X_test = X_test[selected_feat]\n",
        "print(X_train.shape, X_test.shape)"
      ],
      "id": "mwkFiF0Ku9KN"
    },
    {
      "cell_type": "markdown",
      "metadata": {
        "id": "5mxW_fp-vQOq"
      },
      "source": [
        "## Modeling"
      ],
      "id": "5mxW_fp-vQOq"
    },
    {
      "cell_type": "markdown",
      "metadata": {
        "id": "hgEdBPSXvZd6"
      },
      "source": [
        "### Logistic Regression"
      ],
      "id": "hgEdBPSXvZd6"
    },
    {
      "cell_type": "code",
      "execution_count": 13,
      "metadata": {
        "colab": {
          "base_uri": "https://localhost:8080/"
        },
        "id": "oV3GnA8avCNY",
        "outputId": "cb6d77cd-323c-4374-9fa2-7b08ae6f8953"
      },
      "outputs": [
        {
          "output_type": "execute_result",
          "data": {
            "text/plain": [
              "LogisticRegression()"
            ]
          },
          "metadata": {},
          "execution_count": 13
        }
      ],
      "source": [
        "model = LogisticRegression()\n",
        "model.fit(X_train, y_train)"
      ],
      "id": "oV3GnA8avCNY"
    },
    {
      "cell_type": "code",
      "execution_count": 14,
      "metadata": {
        "id": "8sgPiV_YvlCs"
      },
      "outputs": [],
      "source": [
        "y_pred = model.predict(X_test)"
      ],
      "id": "8sgPiV_YvlCs"
    },
    {
      "cell_type": "markdown",
      "metadata": {
        "id": "-LP9hmmZyPNT"
      },
      "source": [
        "Evaluation"
      ],
      "id": "-LP9hmmZyPNT"
    },
    {
      "cell_type": "code",
      "execution_count": 15,
      "metadata": {
        "colab": {
          "base_uri": "https://localhost:8080/",
          "height": 334
        },
        "id": "GHg8xlA5vrjb",
        "outputId": "a97a3cfa-d325-4748-b087-71d19081a6e7"
      },
      "outputs": [
        {
          "output_type": "display_data",
          "data": {
            "text/plain": [
              "<Figure size 576x360 with 2 Axes>"
            ],
            "image/png": "[encoded data removed]"
          },
          "metadata": {
            "needs_background": "light"
          }
        }
      ],
      "source": [
        "f, ax = plt.subplots(figsize=(8, 5))\n",
        "sns.heatmap(confusion_matrix(y_test, y_pred), annot=True, fmt='.0f', ax=ax)\n",
        "plt.xlabel('Prediction')\n",
        "plt.ylabel('Actual')\n",
        "plt.show()"
      ],
      "id": "GHg8xlA5vrjb"
    },
    {
      "cell_type": "code",
      "execution_count": 16,
      "metadata": {
        "colab": {
          "base_uri": "https://localhost:8080/"
        },
        "id": "8ZmQiq1wvtIG",
        "outputId": "9149970f-93fe-4dae-dd4e-6380217fedc5"
      },
      "outputs": [
        {
          "output_type": "stream",
          "name": "stdout",
          "text": [
            "              precision    recall  f1-score   support\n",
            "\n",
            "           0       0.92      1.00      0.96      4806\n",
            "           1       0.88      0.02      0.03       434\n",
            "\n",
            "    accuracy                           0.92      5240\n",
            "   macro avg       0.90      0.51      0.49      5240\n",
            "weighted avg       0.91      0.92      0.88      5240\n",
            "\n"
          ]
        }
      ],
      "source": [
        "print(classification_report(y_test, y_pred))"
      ],
      "id": "8ZmQiq1wvtIG"
    },
    {
      "cell_type": "code",
      "execution_count": 17,
      "metadata": {
        "id": "obx0iS6Gv9n4"
      },
      "outputs": [],
      "source": [
        "def plot_roc_curve(true_y, y_prob, labels):\n",
        "    fpr, tpr, thresholds = roc_curve(true_y, y_prob)\n",
        "    sns.lineplot(fpr, tpr, label=labels)\n",
        "    plt.xlabel('False Positive Rate')\n",
        "    plt.ylabel('True Positive Rate')"
      ],
      "id": "obx0iS6Gv9n4"
    },
    {
      "cell_type": "code",
      "execution_count": 18,
      "metadata": {
        "colab": {
          "base_uri": "https://localhost:8080/",
          "height": 331
        },
        "id": "mSyB_GW1wWRZ",
        "outputId": "2b55cdd6-cd07-45c0-b053-4df234286709"
      },
      "outputs": [
        {
          "output_type": "stream",
          "name": "stdout",
          "text": [
            "\n",
            "model AUC score: 0.5079604795081417\n",
            "\n"
          ]
        },
        {
          "output_type": "display_data",
          "data": {
            "text/plain": [
              "<Figure size 432x288 with 1 Axes>"
            ],
            "image/png": "[encoded data removed]"
          },
          "metadata": {
            "needs_background": "light"
          }
        }
      ],
      "source": [
        "plot_roc_curve(y_test, y_pred, \"AUC Score\")\n",
        "print(f\"\\nmodel AUC score: {roc_auc_score(y_test, y_pred)}\\n\")\n",
        "plt.show()"
      ],
      "id": "mSyB_GW1wWRZ"
    },
    {
      "cell_type": "code",
      "execution_count": 19,
      "metadata": {
        "colab": {
          "base_uri": "https://localhost:8080/",
          "height": 112
        },
        "id": "_Jjf4ZPpwX7y",
        "outputId": "827e1135-08db-42e1-e893-35125a3dbf55"
      },
      "outputs": [
        {
          "output_type": "execute_result",
          "data": {
            "text/plain": [
              "                           Score (%)\n",
              "Model Score in Data Train  92.012978\n",
              "Model Score in Data Test   91.832061"
            ],
            "text/html": [
              "\n",
              "  <div id=\"df-c9e680de-c6fa-4eeb-a6d9-a5f5e481bf61\">\n",
              "    <div class=\"colab-df-container\">\n",
              "      <div>\n",
              "<style scoped>\n",
              "    .dataframe tbody tr th:only-of-type {\n",
              "        vertical-align: middle;\n",
              "    }\n",
              "\n",
              "    .dataframe tbody tr th {\n",
              "        vertical-align: top;\n",
              "    }\n",
              "\n",
              "    .dataframe thead th {\n",
              "        text-align: right;\n",
              "    }\n",
              "</style>\n",
              "<table border=\"1\" class=\"dataframe\">\n",
              "  <thead>\n",
              "    <tr style=\"text-align: right;\">\n",
              "      <th></th>\n",
              "      <th>Score (%)</th>\n",
              "    </tr>\n",
              "  </thead>\n",
              "  <tbody>\n",
              "    <tr>\n",
              "      <th>Model Score in Data Train</th>\n",
              "      <td>92.012978</td>\n",
              "    </tr>\n",
              "    <tr>\n",
              "      <th>Model Score in Data Test</th>\n",
              "      <td>91.832061</td>\n",
              "    </tr>\n",
              "  </tbody>\n",
              "</table>\n",
              "</div>\n",
              "      <button class=\"colab-df-convert\" onclick=\"convertToInteractive('df-c9e680de-c6fa-4eeb-a6d9-a5f5e481bf61')\"\n",
              "              title=\"Convert this dataframe to an interactive table.\"\n",
              "              style=\"display:none;\">\n",
              "        \n",
              "  <svg xmlns=\"http://www.w3.org/2000/svg\" height=\"24px\"viewBox=\"0 0 24 24\"\n",
              "       width=\"24px\">\n",
              "    <path d=\"M0 0h24v24H0V0z\" fill=\"none\"/>\n",
              "    <path d=\"M18.56 5.44l.94 2.06.94-2.06 2.06-.94-2.06-.94-.94-2.06-.94 2.06-2.06.94zm-11 1L8.5 8.5l.94-2.06 2.06-.94-2.06-.94L8.5 2.5l-.94 2.06-2.06.94zm10 10l.94 2.06.94-2.06 2.06-.94-2.06-.94-.94-2.06-.94 2.06-2.06.94z\"/><path d=\"M17.41 7.96l-1.37-1.37c-.4-.4-.92-.59-1.43-.59-.52 0-1.04.2-1.43.59L10.3 9.45l-7.72 7.72c-.78.78-.78 2.05 0 2.83L4 21.41c.39.39.9.59 1.41.59.51 0 1.02-.2 1.41-.59l7.78-7.78 2.81-2.81c.8-.78.8-2.07 0-2.86zM5.41 20L4 18.59l7.72-7.72 1.47 1.35L5.41 20z\"/>\n",
              "  </svg>\n",
              "      </button>\n",
              "      \n",
              "  <style>\n",
              "    .colab-df-container {\n",
              "      display:flex;\n",
              "      flex-wrap:wrap;\n",
              "      gap: 12px;\n",
              "    }\n",
              "\n",
              "    .colab-df-convert {\n",
              "      background-color: #E8F0FE;\n",
              "      border: none;\n",
              "      border-radius: 50%;\n",
              "      cursor: pointer;\n",
              "      display: none;\n",
              "      fill: #1967D2;\n",
              "      height: 32px;\n",
              "      padding: 0 0 0 0;\n",
              "      width: 32px;\n",
              "    }\n",
              "\n",
              "    .colab-df-convert:hover {\n",
              "      background-color: #E2EBFA;\n",
              "      box-shadow: 0px 1px 2px rgba(60, 64, 67, 0.3), 0px 1px 3px 1px rgba(60, 64, 67, 0.15);\n",
              "      fill: #174EA6;\n",
              "    }\n",
              "\n",
              "    [theme=dark] .colab-df-convert {\n",
              "      background-color: #3B4455;\n",
              "      fill: #D2E3FC;\n",
              "    }\n",
              "\n",
              "    [theme=dark] .colab-df-convert:hover {\n",
              "      background-color: #434B5C;\n",
              "      box-shadow: 0px 1px 3px 1px rgba(0, 0, 0, 0.15);\n",
              "      filter: drop-shadow(0px 1px 2px rgba(0, 0, 0, 0.3));\n",
              "      fill: #FFFFFF;\n",
              "    }\n",
              "  </style>\n",
              "\n",
              "      <script>\n",
              "        const buttonEl =\n",
              "          document.querySelector('#df-c9e680de-c6fa-4eeb-a6d9-a5f5e481bf61 button.colab-df-convert');\n",
              "        buttonEl.style.display =\n",
              "          google.colab.kernel.accessAllowed ? 'block' : 'none';\n",
              "\n",
              "        async function convertToInteractive(key) {\n",
              "          const element = document.querySelector('#df-c9e680de-c6fa-4eeb-a6d9-a5f5e481bf61');\n",
              "          const dataTable =\n",
              "            await google.colab.kernel.invokeFunction('convertToInteractive',\n",
              "                                                     [key], {});\n",
              "          if (!dataTable) return;\n",
              "\n",
              "          const docLinkHtml = 'Like what you see? Visit the ' +\n",
              "            '<a target=\"_blank\" href=https://colab.research.google.com/notebooks/data_table.ipynb>data table notebook</a>'\n",
              "            + ' to learn more about interactive tables.';\n",
              "          element.innerHTML = '';\n",
              "          dataTable['output_type'] = 'display_data';\n",
              "          await google.colab.output.renderOutput(dataTable, element);\n",
              "          const docLink = document.createElement('div');\n",
              "          docLink.innerHTML = docLinkHtml;\n",
              "          element.appendChild(docLink);\n",
              "        }\n",
              "      </script>\n",
              "    </div>\n",
              "  </div>\n",
              "  "
            ]
          },
          "metadata": {},
          "execution_count": 19
        }
      ],
      "source": [
        "pd.DataFrame(data=[model.score(X_train, y_train)*100,\n",
        "                   model.score(X_test, y_test)*100],\n",
        "             index=['Model Score in Data Train', 'Model Score in Data Test'],\n",
        "             columns=['Score (%)'])"
      ],
      "id": "_Jjf4ZPpwX7y"
    },
    {
      "cell_type": "markdown",
      "metadata": {
        "id": "-gDagcx3w9-0"
      },
      "source": [
        "> The results of the model score for the train and test data are around 91%, so it can be said to be a good fit model, but a recall value of 0% is obtained. This recall value can cause problems, because when the model predicts that the customer will not have a problem with payment, the actual data is that the customer has a problem with payment, so this needs to be handled with optimization."
      ],
      "id": "-gDagcx3w9-0"
    },
    {
      "cell_type": "markdown",
      "metadata": {
        "id": "zEXOTL9L5zL6"
      },
      "source": [
        "### Ensamble Learning"
      ],
      "id": "zEXOTL9L5zL6"
    },
    {
      "cell_type": "code",
      "execution_count": 20,
      "metadata": {
        "id": "eYFpDz-L4uGX"
      },
      "outputs": [],
      "source": [
        "rf_pipe = Pipeline([('model', RandomForestClassifier())])\n",
        "ab_pipe = Pipeline([('model', AdaBoostClassifier())])"
      ],
      "id": "eYFpDz-L4uGX"
    },
    {
      "cell_type": "code",
      "execution_count": 21,
      "metadata": {
        "colab": {
          "base_uri": "https://localhost:8080/"
        },
        "id": "PL4uPli557Za",
        "outputId": "39752630-fd64-483f-ee43-f3ef7e61d1c4"
      },
      "outputs": [
        {
          "output_type": "execute_result",
          "data": {
            "text/plain": [
              "[Pipeline(steps=[('model', RandomForestClassifier())]),\n",
              " Pipeline(steps=[('model', AdaBoostClassifier())])]"
            ]
          },
          "metadata": {},
          "execution_count": 21
        }
      ],
      "source": [
        "models = [rf_pipe, ab_pipe]\n",
        "models"
      ],
      "id": "PL4uPli557Za"
    },
    {
      "cell_type": "code",
      "execution_count": 22,
      "metadata": {
        "id": "idRhYR2x58Ib"
      },
      "outputs": [],
      "source": [
        "def cv_score(model, data_x, data_y, scoring, n):\n",
        "    cv = KFold(n_splits=n, shuffle=False)\n",
        "    scores_train = cross_val_score(model, data_x, data_y, scoring=scoring, cv=cv)\n",
        "    scores_test = cross_validate(model, data_x, data_y, cv=n)\n",
        "\n",
        "    return scores_train.mean(), scores_test[\"test_score\"].mean()"
      ],
      "id": "idRhYR2x58Ib"
    },
    {
      "cell_type": "code",
      "execution_count": 23,
      "metadata": {
        "colab": {
          "base_uri": "https://localhost:8080/"
        },
        "id": "DHyGQrqs5895",
        "outputId": "6b32986f-feef-4ef2-f5ff-8619eede962d"
      },
      "outputs": [
        {
          "output_type": "stream",
          "name": "stdout",
          "text": [
            "ensemble model 0\n",
            "              precision    recall  f1-score   support\n",
            "\n",
            "           0       0.92      1.00      0.96      4806\n",
            "           1       0.00      0.00      0.00       434\n",
            "\n",
            "    accuracy                           0.92      5240\n",
            "   macro avg       0.46      0.50      0.48      5240\n",
            "weighted avg       0.84      0.92      0.88      5240\n",
            "\n",
            "CV: (0.0, 0.9206546174918628)\n",
            "ensemble model 1\n",
            "              precision    recall  f1-score   support\n",
            "\n",
            "           0       0.92      1.00      0.96      4806\n",
            "           1       0.52      0.03      0.06       434\n",
            "\n",
            "    accuracy                           0.92      5240\n",
            "   macro avg       0.72      0.52      0.51      5240\n",
            "weighted avg       0.89      0.92      0.88      5240\n",
            "\n",
            "CV: (0.021801013084658184, 0.9185075912396794)\n"
          ]
        }
      ],
      "source": [
        "for i in range(len(models)):\n",
        "    models[i].fit(X_train, y_train)\n",
        "    preds = models[i].predict(X_test)\n",
        "    print(\"ensemble model\", i)\n",
        "    print(classification_report(y_test, preds))\n",
        "    print(\"CV:\", cv_score(models[i], X_train, y_train, \"recall\", 5))"
      ],
      "id": "DHyGQrqs5895"
    },
    {
      "cell_type": "markdown",
      "source": [
        "> The recall value for the two ensemble models is still 0, so data balancing must be done. In addition, the train and test scores have scores that are too far apart, namely 0 and 90%, so that it can be said to be an underfit model."
      ],
      "metadata": {
        "id": "Tz5whsbKwQP8"
      },
      "id": "Tz5whsbKwQP8"
    },
    {
      "cell_type": "markdown",
      "metadata": {
        "id": "uhSTCIz1wtHW"
      },
      "source": [
        "### Optimize"
      ],
      "id": "uhSTCIz1wtHW"
    },
    {
      "cell_type": "markdown",
      "metadata": {
        "id": "Ijw2nrz3xXRV"
      },
      "source": [
        "Handling Imbalanced Data"
      ],
      "id": "Ijw2nrz3xXRV"
    },
    {
      "cell_type": "code",
      "execution_count": 24,
      "metadata": {
        "id": "uQvYQpL0wYhz"
      },
      "outputs": [],
      "source": [
        "balanced = SMOTETomek()\n",
        "X_train, y_train = balanced.fit_resample(X_train, y_train)"
      ],
      "id": "uQvYQpL0wYhz"
    },
    {
      "cell_type": "markdown",
      "source": [
        "#### Logistic Regression"
      ],
      "metadata": {
        "id": "0WKID6bgvutc"
      },
      "id": "0WKID6bgvutc"
    },
    {
      "cell_type": "markdown",
      "metadata": {
        "id": "KYG2pSODxgah"
      },
      "source": [
        "Hyperparameter Tuning"
      ],
      "id": "KYG2pSODxgah"
    },
    {
      "cell_type": "code",
      "execution_count": 25,
      "metadata": {
        "id": "FhwYIhq0xe1e"
      },
      "outputs": [],
      "source": [
        "param = [{'solver': ['newton-cg', 'lbfgs', 'saga'],\n",
        "          'penalty': ['l2', 'none'],\n",
        "          'max_iter': [10, 20, 30, 40, 50, 60, 70, 80, 90, 100],\n",
        "          'C': [0.01, 0.1, 1],\n",
        "          'l1_ratio': [0, 1]}]"
      ],
      "id": "FhwYIhq0xe1e"
    },
    {
      "cell_type": "code",
      "execution_count": 26,
      "metadata": {
        "id": "oEuSulLoxis6"
      },
      "outputs": [],
      "source": [
        "model_ht = RandomizedSearchCV(estimator=model, param_distributions=param, cv=5, scoring=\"f1\")"
      ],
      "id": "oEuSulLoxis6"
    },
    {
      "cell_type": "code",
      "execution_count": 27,
      "metadata": {
        "colab": {
          "base_uri": "https://localhost:8080/"
        },
        "id": "Y0fg1_X1xkhJ",
        "outputId": "d09d9b5b-3078-48dd-f725-e96737da4108"
      },
      "outputs": [
        {
          "output_type": "execute_result",
          "data": {
            "text/plain": [
              "RandomizedSearchCV(cv=5, estimator=LogisticRegression(),\n",
              "                   param_distributions=[{'C': [0.01, 0.1, 1],\n",
              "                                         'l1_ratio': [0, 1],\n",
              "                                         'max_iter': [10, 20, 30, 40, 50, 60,\n",
              "                                                      70, 80, 90, 100],\n",
              "                                         'penalty': ['l2', 'none'],\n",
              "                                         'solver': ['newton-cg', 'lbfgs',\n",
              "                                                    'saga']}],\n",
              "                   scoring='f1')"
            ]
          },
          "metadata": {},
          "execution_count": 27
        }
      ],
      "source": [
        "model_ht.fit(X_train, y_train)"
      ],
      "id": "Y0fg1_X1xkhJ"
    },
    {
      "cell_type": "code",
      "execution_count": 28,
      "metadata": {
        "colab": {
          "base_uri": "https://localhost:8080/"
        },
        "id": "Jt4_kkUIx5LE",
        "outputId": "aa613492-37a4-4d88-cf59-e27f7a1adea9"
      },
      "outputs": [
        {
          "output_type": "execute_result",
          "data": {
            "text/plain": [
              "{'solver': 'newton-cg',\n",
              " 'penalty': 'none',\n",
              " 'max_iter': 60,\n",
              " 'l1_ratio': 1,\n",
              " 'C': 1}"
            ]
          },
          "metadata": {},
          "execution_count": 28
        }
      ],
      "source": [
        "model_ht.best_params_"
      ],
      "id": "Jt4_kkUIx5LE"
    },
    {
      "cell_type": "markdown",
      "metadata": {
        "id": "3_6tap3zyLwL"
      },
      "source": [
        "Modeling"
      ],
      "id": "3_6tap3zyLwL"
    },
    {
      "cell_type": "code",
      "execution_count": 31,
      "metadata": {
        "colab": {
          "base_uri": "https://localhost:8080/"
        },
        "id": "wJ2ImtTwxd1L",
        "outputId": "1d151cd7-814d-4b90-82de-bbf7337909ab"
      },
      "outputs": [
        {
          "output_type": "execute_result",
          "data": {
            "text/plain": [
              "LogisticRegression(C=1, l1_ratio=1, max_iter=60, penalty='none',\n",
              "                   solver='newton-cg')"
            ]
          },
          "metadata": {},
          "execution_count": 31
        }
      ],
      "source": [
        "model_ht_tuned = LogisticRegression(solver=\"newton-cg\", penalty=\"none\", max_iter=60, C=1, l1_ratio=1)\n",
        "model_ht_tuned.fit(X_train, y_train)"
      ],
      "id": "wJ2ImtTwxd1L"
    },
    {
      "cell_type": "markdown",
      "metadata": {
        "id": "azT9w5kYyNBy"
      },
      "source": [
        "Evaluation"
      ],
      "id": "azT9w5kYyNBy"
    },
    {
      "cell_type": "code",
      "execution_count": 32,
      "metadata": {
        "colab": {
          "base_uri": "https://localhost:8080/"
        },
        "id": "XSCb5MrFxSD6",
        "outputId": "b46070ce-4255-432c-dc41-6837c07f700f"
      },
      "outputs": [
        {
          "output_type": "stream",
          "name": "stdout",
          "text": [
            "fold no. - 0, score: 0.71\n",
            "fold no. - 1, score: 0.75\n",
            "fold no. - 2, score: 0.76\n",
            "fold no. - 3, score: 0.76\n",
            "fold no. - 4, score: 0.75\n"
          ]
        }
      ],
      "source": [
        "scores_train = cross_val_score(model_ht_tuned, X_train, y_train, scoring='accuracy', cv=5)\n",
        "for i, j in enumerate(scores_train):\n",
        "    print(f\"fold no. - {i}, score: {round(j, 2)}\")"
      ],
      "id": "XSCb5MrFxSD6"
    },
    {
      "cell_type": "code",
      "execution_count": 33,
      "metadata": {
        "colab": {
          "base_uri": "https://localhost:8080/"
        },
        "id": "3Taaaz3JyBvK",
        "outputId": "ee08af7b-723a-4db5-a92f-9250eda1e77f"
      },
      "outputs": [
        {
          "output_type": "stream",
          "name": "stdout",
          "text": [
            "fold no. - 0, score: 0.71\n",
            "fold no. - 1, score: 0.75\n",
            "fold no. - 2, score: 0.76\n",
            "fold no. - 3, score: 0.76\n",
            "fold no. - 4, score: 0.75\n"
          ]
        }
      ],
      "source": [
        "scores_test = cross_validate(model_ht_tuned, X_train, y_train, cv=5)\n",
        "for i, j in enumerate(scores_test[\"test_score\"]):\n",
        "    print(f\"fold no. - {i}, score: {round(j, 2)}\")"
      ],
      "id": "3Taaaz3JyBvK"
    },
    {
      "cell_type": "code",
      "execution_count": 34,
      "metadata": {
        "colab": {
          "base_uri": "https://localhost:8080/",
          "height": 320
        },
        "id": "h70KHXTwyCzE",
        "outputId": "28391e11-f6a5-4525-ccf0-52f0b19bf2fd"
      },
      "outputs": [
        {
          "output_type": "display_data",
          "data": {
            "text/plain": [
              "<Figure size 504x360 with 1 Axes>"
            ],
            "image/png": "[encoded data removed]"
          },
          "metadata": {
            "needs_background": "light"
          }
        }
      ],
      "source": [
        "plt.figure(figsize=(7, 5))\n",
        "sns.lineplot(data=scores_train, label=\"Train\", marker=\"o\")\n",
        "sns.lineplot(data=scores_test[\"test_score\"], label=\"Test\", marker=\"o\")\n",
        "plt.show()"
      ],
      "id": "h70KHXTwyCzE"
    },
    {
      "cell_type": "code",
      "execution_count": 35,
      "metadata": {
        "colab": {
          "base_uri": "https://localhost:8080/",
          "height": 334
        },
        "id": "BFQNh384yFCq",
        "outputId": "6cb3ae3d-ebe8-4514-efb0-45a4b39e35e7"
      },
      "outputs": [
        {
          "output_type": "display_data",
          "data": {
            "text/plain": [
              "<Figure size 576x360 with 2 Axes>"
            ],
            "image/png": "[encoded data removed]"
          },
          "metadata": {
            "needs_background": "light"
          }
        }
      ],
      "source": [
        "f, ax = plt.subplots(figsize=(8, 5))\n",
        "sns.heatmap(confusion_matrix(y_test, y_pred), annot=True, fmt='.0f', ax=ax)\n",
        "plt.xlabel('Prediction')\n",
        "plt.ylabel('Actual')\n",
        "plt.show()"
      ],
      "id": "BFQNh384yFCq"
    },
    {
      "cell_type": "code",
      "execution_count": 36,
      "metadata": {
        "colab": {
          "base_uri": "https://localhost:8080/"
        },
        "id": "02vMiq48yGPy",
        "outputId": "6c8d2e89-006c-44eb-99d5-71be3b646475"
      },
      "outputs": [
        {
          "output_type": "stream",
          "name": "stdout",
          "text": [
            "              precision    recall  f1-score   support\n",
            "\n",
            "           0       0.95      0.74      0.84      4806\n",
            "           1       0.17      0.57      0.26       434\n",
            "\n",
            "    accuracy                           0.73      5240\n",
            "   macro avg       0.56      0.66      0.55      5240\n",
            "weighted avg       0.89      0.73      0.79      5240\n",
            "\n"
          ]
        }
      ],
      "source": [
        "y_pred_ht_tuned = model_ht_tuned.predict(X_test)\n",
        "print(classification_report(y_test, y_pred_ht_tuned))"
      ],
      "id": "02vMiq48yGPy"
    },
    {
      "cell_type": "code",
      "execution_count": 37,
      "metadata": {
        "colab": {
          "base_uri": "https://localhost:8080/",
          "height": 331
        },
        "id": "mXd4CCF_yHqi",
        "outputId": "d30e0ccc-b7d0-49a8-c8cf-8172a2bd9f7c"
      },
      "outputs": [
        {
          "output_type": "stream",
          "name": "stdout",
          "text": [
            "\n",
            "model AUC score: 0.6558612410370294\n",
            "\n"
          ]
        },
        {
          "output_type": "display_data",
          "data": {
            "text/plain": [
              "<Figure size 432x288 with 1 Axes>"
            ],
            "image/png": "[encoded data removed]"
          },
          "metadata": {
            "needs_background": "light"
          }
        }
      ],
      "source": [
        "plot_roc_curve(y_test, y_pred_ht_tuned, \"AUC Score\")\n",
        "print(f\"\\nmodel AUC score: {roc_auc_score(y_test, y_pred_ht_tuned)}\\n\")\n",
        "plt.show()"
      ],
      "id": "mXd4CCF_yHqi"
    },
    {
      "cell_type": "code",
      "execution_count": 38,
      "metadata": {
        "colab": {
          "base_uri": "https://localhost:8080/",
          "height": 112
        },
        "id": "yp9FUbcjyIsC",
        "outputId": "c22eb7ae-0946-46df-dda7-1dfb7b7637ff"
      },
      "outputs": [
        {
          "output_type": "execute_result",
          "data": {
            "text/plain": [
              "                           Score (%)\n",
              "Model Score in Data Train  74.838041\n",
              "Model Score in Data Test   73.015267"
            ],
            "text/html": [
              "\n",
              "  <div id=\"df-f875a428-81f1-4c53-a118-628693ed276c\">\n",
              "    <div class=\"colab-df-container\">\n",
              "      <div>\n",
              "<style scoped>\n",
              "    .dataframe tbody tr th:only-of-type {\n",
              "        vertical-align: middle;\n",
              "    }\n",
              "\n",
              "    .dataframe tbody tr th {\n",
              "        vertical-align: top;\n",
              "    }\n",
              "\n",
              "    .dataframe thead th {\n",
              "        text-align: right;\n",
              "    }\n",
              "</style>\n",
              "<table border=\"1\" class=\"dataframe\">\n",
              "  <thead>\n",
              "    <tr style=\"text-align: right;\">\n",
              "      <th></th>\n",
              "      <th>Score (%)</th>\n",
              "    </tr>\n",
              "  </thead>\n",
              "  <tbody>\n",
              "    <tr>\n",
              "      <th>Model Score in Data Train</th>\n",
              "      <td>74.838041</td>\n",
              "    </tr>\n",
              "    <tr>\n",
              "      <th>Model Score in Data Test</th>\n",
              "      <td>73.015267</td>\n",
              "    </tr>\n",
              "  </tbody>\n",
              "</table>\n",
              "</div>\n",
              "      <button class=\"colab-df-convert\" onclick=\"convertToInteractive('df-f875a428-81f1-4c53-a118-628693ed276c')\"\n",
              "              title=\"Convert this dataframe to an interactive table.\"\n",
              "              style=\"display:none;\">\n",
              "        \n",
              "  <svg xmlns=\"http://www.w3.org/2000/svg\" height=\"24px\"viewBox=\"0 0 24 24\"\n",
              "       width=\"24px\">\n",
              "    <path d=\"M0 0h24v24H0V0z\" fill=\"none\"/>\n",
              "    <path d=\"M18.56 5.44l.94 2.06.94-2.06 2.06-.94-2.06-.94-.94-2.06-.94 2.06-2.06.94zm-11 1L8.5 8.5l.94-2.06 2.06-.94-2.06-.94L8.5 2.5l-.94 2.06-2.06.94zm10 10l.94 2.06.94-2.06 2.06-.94-2.06-.94-.94-2.06-.94 2.06-2.06.94z\"/><path d=\"M17.41 7.96l-1.37-1.37c-.4-.4-.92-.59-1.43-.59-.52 0-1.04.2-1.43.59L10.3 9.45l-7.72 7.72c-.78.78-.78 2.05 0 2.83L4 21.41c.39.39.9.59 1.41.59.51 0 1.02-.2 1.41-.59l7.78-7.78 2.81-2.81c.8-.78.8-2.07 0-2.86zM5.41 20L4 18.59l7.72-7.72 1.47 1.35L5.41 20z\"/>\n",
              "  </svg>\n",
              "      </button>\n",
              "      \n",
              "  <style>\n",
              "    .colab-df-container {\n",
              "      display:flex;\n",
              "      flex-wrap:wrap;\n",
              "      gap: 12px;\n",
              "    }\n",
              "\n",
              "    .colab-df-convert {\n",
              "      background-color: #E8F0FE;\n",
              "      border: none;\n",
              "      border-radius: 50%;\n",
              "      cursor: pointer;\n",
              "      display: none;\n",
              "      fill: #1967D2;\n",
              "      height: 32px;\n",
              "      padding: 0 0 0 0;\n",
              "      width: 32px;\n",
              "    }\n",
              "\n",
              "    .colab-df-convert:hover {\n",
              "      background-color: #E2EBFA;\n",
              "      box-shadow: 0px 1px 2px rgba(60, 64, 67, 0.3), 0px 1px 3px 1px rgba(60, 64, 67, 0.15);\n",
              "      fill: #174EA6;\n",
              "    }\n",
              "\n",
              "    [theme=dark] .colab-df-convert {\n",
              "      background-color: #3B4455;\n",
              "      fill: #D2E3FC;\n",
              "    }\n",
              "\n",
              "    [theme=dark] .colab-df-convert:hover {\n",
              "      background-color: #434B5C;\n",
              "      box-shadow: 0px 1px 3px 1px rgba(0, 0, 0, 0.15);\n",
              "      filter: drop-shadow(0px 1px 2px rgba(0, 0, 0, 0.3));\n",
              "      fill: #FFFFFF;\n",
              "    }\n",
              "  </style>\n",
              "\n",
              "      <script>\n",
              "        const buttonEl =\n",
              "          document.querySelector('#df-f875a428-81f1-4c53-a118-628693ed276c button.colab-df-convert');\n",
              "        buttonEl.style.display =\n",
              "          google.colab.kernel.accessAllowed ? 'block' : 'none';\n",
              "\n",
              "        async function convertToInteractive(key) {\n",
              "          const element = document.querySelector('#df-f875a428-81f1-4c53-a118-628693ed276c');\n",
              "          const dataTable =\n",
              "            await google.colab.kernel.invokeFunction('convertToInteractive',\n",
              "                                                     [key], {});\n",
              "          if (!dataTable) return;\n",
              "\n",
              "          const docLinkHtml = 'Like what you see? Visit the ' +\n",
              "            '<a target=\"_blank\" href=https://colab.research.google.com/notebooks/data_table.ipynb>data table notebook</a>'\n",
              "            + ' to learn more about interactive tables.';\n",
              "          element.innerHTML = '';\n",
              "          dataTable['output_type'] = 'display_data';\n",
              "          await google.colab.output.renderOutput(dataTable, element);\n",
              "          const docLink = document.createElement('div');\n",
              "          docLink.innerHTML = docLinkHtml;\n",
              "          element.appendChild(docLink);\n",
              "        }\n",
              "      </script>\n",
              "    </div>\n",
              "  </div>\n",
              "  "
            ]
          },
          "metadata": {},
          "execution_count": 38
        }
      ],
      "source": [
        "pd.DataFrame(data=[model_ht_tuned.score(X_train, y_train)*100,\n",
        "                   model_ht_tuned.score(X_test, y_test)*100],\n",
        "             index=['Model Score in Data Train', 'Model Score in Data Test'],\n",
        "             columns=['Score (%)'])"
      ],
      "id": "yp9FUbcjyIsC"
    },
    {
      "cell_type": "markdown",
      "metadata": {
        "id": "WdbU8SUp5UpL"
      },
      "source": [
        "> For the logistic regression model which has been optimized with imlanaced data handling and hyperparameter tuning, it gets a score of 71% and 69% for the train and test data, so it can be said to be a goodfit model. Furthermore, an increase in recall was obtained to 58%. However, it is still in the low category, so it will be tried again with other models."
      ],
      "id": "WdbU8SUp5UpL"
    },
    {
      "cell_type": "markdown",
      "source": [
        "#### Ensemble Model"
      ],
      "metadata": {
        "id": "EkRRyT6mvwu0"
      },
      "id": "EkRRyT6mvwu0"
    },
    {
      "cell_type": "code",
      "source": [
        "param = {\"n_estimators\": [100, 200, 300],\n",
        "         \"max_depth\": [1, 3, 5, 7, 10, 15],\n",
        "         \"max_leaf_nodes\": [1, 3, 5, 10]}"
      ],
      "metadata": {
        "id": "iMpMVYAXvyUP"
      },
      "id": "iMpMVYAXvyUP",
      "execution_count": 50,
      "outputs": []
    },
    {
      "cell_type": "code",
      "source": [
        "model = RandomForestClassifier()"
      ],
      "metadata": {
        "id": "kfQocq54xh2U"
      },
      "id": "kfQocq54xh2U",
      "execution_count": 51,
      "outputs": []
    },
    {
      "cell_type": "code",
      "source": [
        "model_ht = RandomizedSearchCV(estimator=model, param_distributions=param, cv=5, scoring=\"f1\")"
      ],
      "metadata": {
        "id": "l4BNu1V6xjcc"
      },
      "id": "l4BNu1V6xjcc",
      "execution_count": 52,
      "outputs": []
    },
    {
      "cell_type": "code",
      "source": [
        "model_ht.fit(X_train, y_train)"
      ],
      "metadata": {
        "colab": {
          "base_uri": "https://localhost:8080/"
        },
        "id": "wa3Gt5vuxooP",
        "outputId": "f6707928-c6dd-4bb7-ae50-f459f282f931"
      },
      "id": "wa3Gt5vuxooP",
      "execution_count": 54,
      "outputs": [
        {
          "output_type": "execute_result",
          "data": {
            "text/plain": [
              "RandomizedSearchCV(cv=5, estimator=RandomForestClassifier(),\n",
              "                   param_distributions={'max_depth': [1, 3, 5, 7, 10, 15],\n",
              "                                        'max_leaf_nodes': [1, 3, 5, 10],\n",
              "                                        'n_estimators': [100, 200, 300]},\n",
              "                   scoring='f1')"
            ]
          },
          "metadata": {},
          "execution_count": 54
        }
      ]
    },
    {
      "cell_type": "code",
      "source": [
        "model_ht.best_params_"
      ],
      "metadata": {
        "colab": {
          "base_uri": "https://localhost:8080/"
        },
        "id": "ryAA_PydxqFo",
        "outputId": "e9db0b61-aea5-44b6-c2c0-91b60c7d9e04"
      },
      "id": "ryAA_PydxqFo",
      "execution_count": 55,
      "outputs": [
        {
          "output_type": "execute_result",
          "data": {
            "text/plain": [
              "{'n_estimators': 300, 'max_leaf_nodes': 10, 'max_depth': 5}"
            ]
          },
          "metadata": {},
          "execution_count": 55
        }
      ]
    },
    {
      "cell_type": "code",
      "source": [
        "model_ht_tuned = RandomForestClassifier(n_estimators=300, max_leaf_nodes=10, max_depth=5)\n",
        "model_ht_tuned.fit(X_train, y_train)"
      ],
      "metadata": {
        "colab": {
          "base_uri": "https://localhost:8080/"
        },
        "id": "MtTBn2JQ0bOj",
        "outputId": "b5656063-48b3-4a4f-83f6-e838321e5b42"
      },
      "id": "MtTBn2JQ0bOj",
      "execution_count": 56,
      "outputs": [
        {
          "output_type": "execute_result",
          "data": {
            "text/plain": [
              "RandomForestClassifier(max_depth=5, max_leaf_nodes=10, n_estimators=300)"
            ]
          },
          "metadata": {},
          "execution_count": 56
        }
      ]
    },
    {
      "cell_type": "code",
      "source": [
        "scores_train = cross_val_score(model_ht_tuned, X_train, y_train, scoring='accuracy', cv=5)\n",
        "for i, j in enumerate(scores_train):\n",
        "    print(f\"fold no. - {i}, score: {round(j, 2)}\")"
      ],
      "metadata": {
        "colab": {
          "base_uri": "https://localhost:8080/"
        },
        "id": "op1qNjz10jda",
        "outputId": "bf2e36cf-abc8-488d-982e-dbbd2a756978"
      },
      "id": "op1qNjz10jda",
      "execution_count": 57,
      "outputs": [
        {
          "output_type": "stream",
          "name": "stdout",
          "text": [
            "fold no. - 0, score: 0.75\n",
            "fold no. - 1, score: 0.84\n",
            "fold no. - 2, score: 0.85\n",
            "fold no. - 3, score: 0.85\n",
            "fold no. - 4, score: 0.85\n"
          ]
        }
      ]
    },
    {
      "cell_type": "code",
      "source": [
        "scores_test = cross_validate(model_ht_tuned, X_train, y_train, cv=5)\n",
        "for i, j in enumerate(scores_test[\"test_score\"]):\n",
        "    print(f\"fold no. - {i}, score: {round(j, 2)}\")"
      ],
      "metadata": {
        "colab": {
          "base_uri": "https://localhost:8080/"
        },
        "id": "8Qm2vc2U0lXY",
        "outputId": "78fb428d-c6ee-40e4-f1dc-b097015e9992"
      },
      "id": "8Qm2vc2U0lXY",
      "execution_count": 58,
      "outputs": [
        {
          "output_type": "stream",
          "name": "stdout",
          "text": [
            "fold no. - 0, score: 0.74\n",
            "fold no. - 1, score: 0.85\n",
            "fold no. - 2, score: 0.85\n",
            "fold no. - 3, score: 0.85\n",
            "fold no. - 4, score: 0.84\n"
          ]
        }
      ]
    },
    {
      "cell_type": "code",
      "source": [
        "plt.figure(figsize=(7, 5))\n",
        "sns.lineplot(data=scores_train, label=\"Train\", marker=\"o\")\n",
        "sns.lineplot(data=scores_test[\"test_score\"], label=\"Test\", marker=\"o\")\n",
        "plt.show()"
      ],
      "metadata": {
        "colab": {
          "base_uri": "https://localhost:8080/",
          "height": 320
        },
        "id": "WB2SBiF20mYQ",
        "outputId": "47f9100e-9eb2-435a-9c64-df5970c48d42"
      },
      "id": "WB2SBiF20mYQ",
      "execution_count": 59,
      "outputs": [
        {
          "output_type": "display_data",
          "data": {
            "text/plain": [
              "<Figure size 504x360 with 1 Axes>"
            ],
            "image/png": "[encoded data removed]"
          },
          "metadata": {
            "needs_background": "light"
          }
        }
      ]
    },
    {
      "cell_type": "code",
      "source": [
        "f, ax = plt.subplots(figsize=(8, 5))\n",
        "sns.heatmap(confusion_matrix(y_test, y_pred), annot=True, fmt='.0f', ax=ax)\n",
        "plt.xlabel('Prediction')\n",
        "plt.ylabel('Actual')\n",
        "plt.show()"
      ],
      "metadata": {
        "colab": {
          "base_uri": "https://localhost:8080/",
          "height": 334
        },
        "id": "d6xDu8Fy0nfP",
        "outputId": "28087548-1306-4f93-e4ca-fe47df73a55a"
      },
      "id": "d6xDu8Fy0nfP",
      "execution_count": 60,
      "outputs": [
        {
          "output_type": "display_data",
          "data": {
            "text/plain": [
              "<Figure size 576x360 with 2 Axes>"
            ],
            "image/png": "[encoded data removed]"
          },
          "metadata": {
            "needs_background": "light"
          }
        }
      ]
    },
    {
      "cell_type": "code",
      "source": [
        "y_pred_ht_tuned = model_ht_tuned.predict(X_test)\n",
        "print(classification_report(y_test, y_pred_ht_tuned))"
      ],
      "metadata": {
        "colab": {
          "base_uri": "https://localhost:8080/"
        },
        "id": "U2PwDZmz0nsB",
        "outputId": "99cc06cc-51d7-4d0d-815e-fc611a5ad1cb"
      },
      "id": "U2PwDZmz0nsB",
      "execution_count": 61,
      "outputs": [
        {
          "output_type": "stream",
          "name": "stdout",
          "text": [
            "              precision    recall  f1-score   support\n",
            "\n",
            "           0       0.94      0.84      0.88      4806\n",
            "           1       0.17      0.36      0.23       434\n",
            "\n",
            "    accuracy                           0.80      5240\n",
            "   macro avg       0.55      0.60      0.56      5240\n",
            "weighted avg       0.87      0.80      0.83      5240\n",
            "\n"
          ]
        }
      ]
    },
    {
      "cell_type": "code",
      "source": [
        "plot_roc_curve(y_test, y_pred_ht_tuned, \"AUC Score\")\n",
        "print(f\"\\nmodel AUC score: {roc_auc_score(y_test, y_pred_ht_tuned)}\\n\")\n",
        "plt.show()"
      ],
      "metadata": {
        "colab": {
          "base_uri": "https://localhost:8080/",
          "height": 331
        },
        "id": "ODK_kQgK0rNE",
        "outputId": "8455e58a-e8db-4da9-bbe8-0a2f38941f49"
      },
      "id": "ODK_kQgK0rNE",
      "execution_count": 63,
      "outputs": [
        {
          "output_type": "stream",
          "name": "stdout",
          "text": [
            "\n",
            "model AUC score: 0.5987906821542196\n",
            "\n"
          ]
        },
        {
          "output_type": "display_data",
          "data": {
            "text/plain": [
              "<Figure size 432x288 with 1 Axes>"
            ],
            "image/png": "[encoded data removed]"
          },
          "metadata": {
            "needs_background": "light"
          }
        }
      ]
    },
    {
      "cell_type": "markdown",
      "source": [
        "> The results of the Random Forest Classifier were obtained as reported above, where the recall value increased to 36% and the train and test scores showed a goodfit model, but a recall value of 36% still could not be said to be a good model, so adjustments had to be made at the preprocessing / hyperparameter stage tuning / etc."
      ],
      "metadata": {
        "id": "TgeBCjfe1O0u"
      },
      "id": "TgeBCjfe1O0u"
    }
  ],
  "metadata": {
    "colab": {
      "toc_visible": true,
      "provenance": []
    },
    "kernelspec": {
      "display_name": "Python 3 (ipykernel)",
      "language": "python",
      "name": "python3"
    },
    "language_info": {
      "codemirror_mode": {
        "name": "ipython",
        "version": 3
      },
      "file_extension": ".py",
      "mimetype": "text/x-python",
      "name": "python",
      "nbconvert_exporter": "python",
      "pygments_lexer": "ipython3",
      "version": "3.9.12"
    }
  },
  "nbformat": 4,
  "nbformat_minor": 5
}